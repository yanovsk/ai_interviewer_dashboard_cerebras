{
 "cells": [
  {
   "cell_type": "code",
   "execution_count": 19,
   "metadata": {},
   "outputs": [
    {
     "name": "stdout",
     "output_type": "stream",
     "text": [
      "{\n",
      "  \"categories\": [\n",
      "    {\n",
      "      \"category\": \"Technical Knowledge\",\n",
      "      \"judging_criteria\": \"1: Lacks understanding of chip design. 2: Familiar with design principles. 3: Expert in semiconductor technology.\"\n",
      "    },\n",
      "    {\n",
      "      \"category\": \"Problem-Solving Skills\",\n",
      "      \"judging_criteria\": \"1: Struggles with logical reasoning. 2: Can analyze problems with guidance. 3: Independently troubleshoots complex issues.\"\n",
      "    },\n",
      "    {\n",
      "      \"category\": \"Programming Skills\",\n",
      "      \"judging_criteria\": \"1: Limited proficiency in coding languages. 2: Proficient in languages like C++ and Python. 3: Expert in multiple programming languages.\"\n",
      "    },\n",
      "    {\n",
      "      \"category\": \"Collaboration and Teamwork\",\n",
      "      \"judging_criteria\": \"1: Difficulty working with others. 2: Collaborates effectively with some guidance. 3: Leads team and facilitates open communication.\"\n",
      "    },\n",
      "    {\n",
      "      \"category\": \"Innovation and Creativity\",\n",
      "      \"judging_criteria\": \"1: Lacks original ideas. 2: Occasionally suggests new solutions. 3: Consistently develops innovative solutions.\"\n",
      "    },\n",
      "    {\n",
      "      \"category\": \"Communication\",\n",
      "      \"judging_criteria\": \"1: Poor articulation. 2: Clear but lacks precision. 3: Concise and persuasive.\"\n",
      "    },\n",
      "    {\n",
      "      \"category\": \"Adaptability and Flexibility\",\n",
      "      \"judging_criteria\": \"1: Struggles with change. 2: Adapts to new situations with some effort. 3: Seamlessly adjusts to new requirements.\"\n",
      "    },\n",
      "    {\n",
      "      \"category\": \"Time Management and Organization\",\n",
      "      \"judging_criteria\": \"1: Frequently misses deadlines. 2: Meets deadlines with some difficulty. 3: Consistently delivers on time.\"\n",
      "    }\n",
      "  ]\n",
      "}\n"
     ]
    }
   ],
   "source": [
    "import os\n",
    "from cerebras.cloud.sdk import Cerebras\n",
    "\n",
    "client = Cerebras(\n",
    "    api_key=\"csk-t3xer3w43dy2xxjcvm9cn8xryjd3jefrc3fmd86fw8pthnd6\"\n",
    ")\n",
    "\n",
    "chat_completion = client.chat.completions.create(\n",
    "    messages=[\n",
    "        {\n",
    "            \"role\": \"system\",\n",
    "            \"content\": \"\"\"\n",
    "            ###instructions\n",
    "            You are an assistant that generates a report template for evaluating job candidates. \n",
    "            YOU MUST ALWAYS RESPOND IN JSON FORMAT BELOW AND NOTHING ELSE.\n",
    "            The report should include categories and judging criteria that explain what grades 1, 2, and 3 mean for each category. \n",
    "            You must only provide 10 words per grade per criteria.\n",
    "            ## JSON Response Format\n",
    "            {\n",
    "                \"categories\": [\n",
    "                    {\n",
    "                    \"category\": \"Write a category name here\",\n",
    "                    \"judging_criteria\": \"1: This means insufficient 2: Proficient but needs improvement. 3: Master.\"\n",
    "                    },\n",
    "                    {\n",
    "                    \"category\": \"Example: Communication\",\n",
    "                    \"judging_criteria\": \"Example: 1: Poor articulation. 2: Clear but lacks precision. 3: Concise and persuasive.\"\n",
    "                    },\n",
    "                ]\n",
    "                }\n",
    "\n",
    "            \"\"\",\n",
    "        },\n",
    "        {\n",
    "            \"role\": \"user\",\n",
    "            \"content\": \"Write application for computer chip engineer. ONLY RESPOND WITH JSON AND NOTHING ELSE.\",\n",
    "        }\n",
    "],\n",
    "    model=\"llama3.1-70b\",\n",
    ")\n",
    "\n",
    "print(chat_completion.choices[0].message.content)\n",
    "\n"
   ]
  },
  {
   "cell_type": "code",
   "execution_count": null,
   "metadata": {},
   "outputs": [],
   "source": []
  }
 ],
 "metadata": {
  "kernelspec": {
   "display_name": "Python 3",
   "language": "python",
   "name": "python3"
  },
  "language_info": {
   "codemirror_mode": {
    "name": "ipython",
    "version": 3
   },
   "file_extension": ".py",
   "mimetype": "text/x-python",
   "name": "python",
   "nbconvert_exporter": "python",
   "pygments_lexer": "ipython3",
   "version": "3.12.6"
  }
 },
 "nbformat": 4,
 "nbformat_minor": 2
}
